{
 "cells": [
  {
   "cell_type": "code",
   "id": "initial_id",
   "metadata": {
    "collapsed": true,
    "ExecuteTime": {
     "end_time": "2025-10-20T06:09:56.782433Z",
     "start_time": "2025-10-20T06:09:46.998905Z"
    }
   },
   "source": [
    "from langchain_openai import ChatOpenAI\n",
    "from langchain_core.prompts import ChatPromptTemplate\n",
    "from langchain_core.output_parsers import StrOutputParser\n",
    "\n",
    "import os\n",
    "\n",
    "\n",
    "llm = ChatOpenAI(base_url='https://api.deepseek.com', api_key=os.getenv('DEEPSEEK_SK'), model='deepseek-chat')\n",
    "\n",
    "prompt_extract = ChatPromptTemplate.from_template(\n",
    "    \"请从以下文本中提取技术规格：\\n\\n{text_input}\"\n",
    ")\n",
    "\n",
    "prompt_transformer = ChatPromptTemplate.from_template(\n",
    "    \"请将以下技术规格转为JSON格式，包含'cpu'、'memory'、'storage'三个键: \\n\\n{specifications}\"\n",
    ")\n",
    "\n",
    "# 用 LCEL 构建链\n",
    "# # StrOutputParser() 将 LLM 消息输出转为字符串\n",
    "extraction_chain = prompt_extract | llm | StrOutputParser()\n",
    "\n",
    "full_chain = (\n",
    "    {\"specifications\": extraction_chain}\n",
    "    | prompt_transformer | llm | StrOutputParser()\n",
    ")\n",
    "\n",
    "# 运行链\n",
    "input_text = \"新款笔记本配备 3.5GHz 八核处理器、16GB 内存和 1TB NVMe SSD。\"\n",
    "\n",
    "# 执行链\n",
    "final_result = full_chain.invoke({\"text_input\": input_text})\n",
    "\n",
    "print('-----输出结果-----')\n",
    "print(final_result)\n"
   ],
   "outputs": [
    {
     "name": "stdout",
     "output_type": "stream",
     "text": [
      "-----输出结果-----\n",
      "{\n",
      "    \"cpu\": \"3.5GHz 八核处理器\",\n",
      "    \"memory\": \"16GB\",\n",
      "    \"storage\": \"1TB NVMe SSD\"\n",
      "}\n"
     ]
    }
   ],
   "execution_count": 1
  }
 ],
 "metadata": {
  "kernelspec": {
   "display_name": "Python 3",
   "language": "python",
   "name": "python3"
  },
  "language_info": {
   "codemirror_mode": {
    "name": "ipython",
    "version": 2
   },
   "file_extension": ".py",
   "mimetype": "text/x-python",
   "name": "python",
   "nbconvert_exporter": "python",
   "pygments_lexer": "ipython2",
   "version": "2.7.6"
  }
 },
 "nbformat": 4,
 "nbformat_minor": 5
}
