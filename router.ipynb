{
 "cells": [
  {
   "cell_type": "code",
   "id": "initial_id",
   "metadata": {
    "collapsed": true,
    "ExecuteTime": {
     "end_time": "2025-10-17T15:23:17.083495Z",
     "start_time": "2025-10-17T15:23:13.419551Z"
    }
   },
   "source": [
    "from langchain_openai import ChatOpenAI\n",
    "from langchain_core.prompts import ChatPromptTemplate\n",
    "from langchain_core.output_parsers import StrOutputParser\n",
    "from langchain_core.runnables import RunnablePassthrough, RunnableBranch\n",
    "\n",
    "import os\n",
    "\n",
    "llm = ChatOpenAI(base_url='https://api.deepseek.com', api_key=os.getenv('DEEPSEEK_SK'), model='deepseek-chat')\n",
    "print('大模型初始化成功')\n",
    "\n",
    "# 预定\n",
    "def booking_handler(request: str) -> str:\n",
    "    \"\"\"模拟预定智能体处理器\"\"\"\n",
    "    print('委托给预定处理器')\n",
    "    return f\"预定处理器已接受请求: {request}, 结果：模拟预定动作\"\n",
    "\n",
    "\n",
    "# 信息检索\n",
    "def info_handler(request: str) -> str:\n",
    "    \"\"\"模拟信息检索智能体处理器\"\"\"\n",
    "    print('委托给信息检索处理器')\n",
    "    return f\"信息检索处理器已接受请求: {request}, 结果：模拟信息检索\"\n",
    "\n",
    "# 兜底\n",
    "def unclear_handler(request: str) -> str:\n",
    "    \"\"\"处理无法委托的智能体处理器\"\"\"\n",
    "    print('处理不明确的请求')\n",
    "    return f\"协调者无法完成委托: {request}, 结果：请补充说明\"\n",
    "\n",
    "# 定义协调者路径\n",
    "cooperator_prompt = ChatPromptTemplate.from_messages([\n",
    "    (\"system\", \"\"\"\n",
    "        分析用户请求，判断由哪个执行器进行处理.\n",
    "        - 如果涉及预定机票或酒店，输出'booker'.\n",
    "        - 如果涉及一般信息问题，输出'info'.\n",
    "        - 如果需求不明确或者不属于上述类型, 输出'unclear'.\n",
    "        只输出一个词: 'booker'、'info'或'unclear'.\n",
    "    \"\"\"),\n",
    "    (\"user\", \"{request}\")\n",
    "])\n",
    "\n",
    "cooperator_chain = cooperator_prompt | llm | StrOutputParser()\n",
    "\n",
    "branches = {\n",
    "    'booker': RunnablePassthrough.assign(output=lambda x:booking_handler(x['request']['request'])),\n",
    "    'info': RunnablePassthrough.assign(output=lambda x:info_handler(x['request']['request'])),\n",
    "    'unclear': RunnablePassthrough.assign(output=lambda x:unclear_handler(x['request']['request'])),\n",
    "}\n",
    "\n",
    "delegation_branch = RunnableBranch(\n",
    "    (lambda x: x['decision'].strip() == 'booker', branches['booker']),\n",
    "    (lambda x: x['decision'].strip() == 'info', branches['info']),\n",
    "    branches['unclear'],\n",
    ")\n",
    "\n",
    "cooperator_agent = {\n",
    "    'decision': cooperator_chain,\n",
    "    'request': RunnablePassthrough()\n",
    "} | delegation_branch | (lambda x: x['output'])\n",
    "\n",
    "\n",
    "def main():\n",
    "    request_a = '帮我预定7点去北京的机票'\n",
    "    result_a = cooperator_agent.invoke({'request': request_a})\n",
    "    print(f'问题: {request_a}, 结果: {result_a}')\n",
    "\n",
    "    request_b = '意大利的首都是哪里'\n",
    "    result_b = cooperator_agent.invoke({'request': request_b})\n",
    "    print(f'问题: {request_b}, 结果: {result_b}')\n",
    "\n",
    "    request_c = '讲讲量子物理'\n",
    "    result_c = cooperator_agent.invoke({'request': request_c})\n",
    "    print(f'问题: {request_c}, 结果: {result_c}')\n",
    "\n",
    "\n",
    "if __name__ == '__main__':\n",
    "    main()"
   ],
   "outputs": [
    {
     "name": "stdout",
     "output_type": "stream",
     "text": [
      "大模型初始化成功\n",
      "委托给预定处理器\n",
      "问题: 帮我预定7点去北京的机票, 结果: 预定处理器已接受请求: 帮我预定7点去北京的机票, 结果：模拟预定动作\n",
      "委托给信息检索处理器\n",
      "问题: 意大利的首都是哪里, 结果: 信息检索处理器已接受请求: 意大利的首都是哪里, 结果：模拟信息检索\n",
      "委托给信息检索处理器\n",
      "问题: 讲讲量子物理, 结果: 信息检索处理器已接受请求: 讲讲量子物理, 结果：模拟信息检索\n"
     ]
    }
   ],
   "execution_count": 2
  },
  {
   "metadata": {},
   "cell_type": "code",
   "outputs": [],
   "execution_count": null,
   "source": "",
   "id": "14717f00ae4553f7"
  }
 ],
 "metadata": {
  "kernelspec": {
   "display_name": "Python 3",
   "language": "python",
   "name": "python3"
  },
  "language_info": {
   "codemirror_mode": {
    "name": "ipython",
    "version": 2
   },
   "file_extension": ".py",
   "mimetype": "text/x-python",
   "name": "python",
   "nbconvert_exporter": "python",
   "pygments_lexer": "ipython2",
   "version": "2.7.6"
  }
 },
 "nbformat": 4,
 "nbformat_minor": 5
}
