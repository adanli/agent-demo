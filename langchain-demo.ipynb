{
 "cells": [
  {
   "cell_type": "code",
   "id": "initial_id",
   "metadata": {
    "collapsed": true,
    "ExecuteTime": {
     "end_time": "2025-10-17T15:25:28.622208Z",
     "start_time": "2025-10-17T15:25:22.287606Z"
    }
   },
   "source": [
    "from langchain_core.prompts import ChatPromptTemplate\n",
    "from langchain_core.output_parsers import StrOutputParser\n",
    "from langchain_openai import ChatOpenAI\n",
    "\n",
    "import os\n",
    "\n",
    "llm = ChatOpenAI(base_url='https://api.deepseek.com', api_key=os.getenv('DEEPSEEK_SK'), model='deepseek-chat')\n",
    "\n",
    "# 将提示模板 和 模型 链接在一起\n",
    "prompt = ChatPromptTemplate.from_template('跟我说一个关于{topic}的笑话')\n",
    "\n",
    "chain = prompt | llm | StrOutputParser()\n",
    "result = chain.invoke({'topic': '冰激凌'})\n",
    "print(f'结果: {result}')\n"
   ],
   "outputs": [
    {
     "name": "stdout",
     "output_type": "stream",
     "text": [
      "结果: 当然！这里有一个关于冰淇淋的笑话：\n",
      "\n",
      "---\n",
      "\n",
      "有一天，一个香草冰淇淋和巧克力冰淇淋在冰箱里吵架。\n",
      "\n",
      "香草冰淇淋大喊：“你算老几？我才是经典口味！”\n",
      "\n",
      "巧克力冰淇淋不服气：“经典有什么用？我比你受欢迎多了！”\n",
      "\n",
      "它们越吵越凶，突然，冰箱门被打开，一束光照进来。\n",
      "\n",
      "一个草莓冰淇淋悄悄滚到角落，小声说：“别吵了……等会儿我们都要被‘挖’空了，还分什么高低！”\n",
      "\n",
      "---\n",
      "\n",
      "希望这个笑话能给你带来一丝清凉的笑意！😄\n"
     ]
    }
   ],
   "execution_count": 1
  }
 ],
 "metadata": {
  "kernelspec": {
   "display_name": "Python 3",
   "language": "python",
   "name": "python3"
  },
  "language_info": {
   "codemirror_mode": {
    "name": "ipython",
    "version": 2
   },
   "file_extension": ".py",
   "mimetype": "text/x-python",
   "name": "python",
   "nbconvert_exporter": "python",
   "pygments_lexer": "ipython2",
   "version": "2.7.6"
  }
 },
 "nbformat": 4,
 "nbformat_minor": 5
}
