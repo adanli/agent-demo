{
 "cells": [
  {
   "cell_type": "code",
   "id": "initial_id",
   "metadata": {
    "collapsed": true,
    "ExecuteTime": {
     "end_time": "2025-10-23T07:17:51.599310Z",
     "start_time": "2025-10-23T07:17:50.762819Z"
    }
   },
   "source": [
    "import os\n",
    "from typing import Optional\n",
    "import nest_asyncio\n",
    "import asyncio\n",
    "\n",
    "from langchain_core.prompts import ChatPromptTemplate\n",
    "# from langchain_google_genai import ChatGoogleGenerativeAI\n",
    "from langchain_openai import ChatOpenAI\n",
    "from langchain_core.tools import tool as langchain_tool\n",
    "from langchain.agents import create_tool_calling_agent, AgentExecutor\n",
    "from google.adk.models.lite_llm import LiteLlm\n",
    "\n",
    "\n",
    "model = LiteLlm(\n",
    "    model='deepseek/deepseek-chat',\n",
    "    api_key=os.getenv('DEEPSEEK_SK')\n",
    ")\n",
    "\n",
    "# 初始化大模型\n",
    "try:\n",
    "    llm: Optional[ChatOpenAI] = ChatOpenAI(base_url='https://api.deepseek.com', api_key=os.getenv('DEEPSEEK_SK'), model='deepseek-chat')\n",
    "    \n",
    "    print('='*10 + '大模型初始化成功' + '='*10)\n",
    "    \n",
    "except Exception as e:\n",
    "    print(f'初始化大模型失败: {e}')\n",
    "    llm = None\n",
    "    \n",
    "    \n",
    "@langchain_tool\n",
    "def search_information(query: str) -> str:\n",
    "    \"\"\"\n",
    "        根据主题提供事实信息\n",
    "    \"\"\"    \n",
    "    print(f'f\\n--- ::tools: 工具调用：search_information, 查询：{query} ---')\n",
    "    \n",
    "    simulated_results = {\n",
    "        \"weather in london\": \"伦敦当前天气多云，气温 15°C。\",\n",
    "        \"capital of france\": \"法国的首都是巴黎。\",\n",
    "        \"population of earth\": \"地球人口约 80 亿。\",\n",
    "        \"tallest mountain\": \"珠穆朗玛峰是海最高的山峰。\",\n",
    "        \"default\": f\"模拟搜索 '{query}'：未找到具体信息，但该主题很有趣。\"\n",
    "    }\n",
    "    \n",
    "    result = simulated_results.get(query.lower(), simulated_results['default'])\n",
    "    print('='*10 + '工具结果' + '='*10)\n",
    "    print(result)\n",
    "    return result\n",
    "\n",
    "tools = [search_information]\n",
    "\n",
    "# 创建工具调用agent\n",
    "if llm:\n",
    "    agent_prompt = ChatPromptTemplate.from_messages([\n",
    "        (\"system\", \"你是一个乐于助人的助手。\"),\n",
    "        (\"human\", \"{input}\"),\n",
    "        (\"placeholder\", \"{agent_scratchpad}\"),\n",
    "    ])\n",
    "    \n",
    "    agent = create_tool_calling_agent(llm=llm, prompt=agent_prompt, tools=tools)\n",
    "    agent_executor = AgentExecutor(agent=agent, tools=tools, verbose=True)\n",
    "    \n",
    "async def run_agent_with_tool(query: str):\n",
    "    \"\"\"用 Agent 执行查询并打印最终回复。\"\"\"\n",
    "    print(f\"\\n‑‑‑ :emoji: Agent 运行查询：'{query}' ‑‑‑\")\n",
    "    try:\n",
    "        response = await agent_executor.ainvoke({'input': query})\n",
    "        print('='*10 + 'AI最终回复' + '='*10)\n",
    "        print(response['output'])\n",
    "    except Exception as e:\n",
    "        print(e)\n",
    "        \n",
    "async def main():\n",
    "    \"\"\"并发多个agent查询\"\"\"\n",
    "    tasks = [\n",
    "        run_agent_with_tool('法国的首都是什么？'),\n",
    "        run_agent_with_tool('伦敦天气如何？'),\n",
    "        run_agent_with_tool('说说狗的相关信息。'),\n",
    "    ]\n",
    "    await asyncio.gather(*tasks)\n",
    "    \n",
    "nest_asyncio.apply()\n",
    "asyncio.run(main())\n",
    "    "
   ],
   "outputs": [
    {
     "ename": "ImportError",
     "evalue": "cannot import name 'create_tool_calling_agent' from 'langchain.agents' (/Users/adan/code/egg/agent-demo/.venv/lib/python3.11/site-packages/langchain/agents/__init__.py)",
     "output_type": "error",
     "traceback": [
      "\u001B[31m---------------------------------------------------------------------------\u001B[39m",
      "\u001B[31mImportError\u001B[39m                               Traceback (most recent call last)",
      "\u001B[36mCell\u001B[39m\u001B[36m \u001B[39m\u001B[32mIn[1]\u001B[39m\u001B[32m, line 10\u001B[39m\n\u001B[32m      8\u001B[39m \u001B[38;5;28;01mfrom\u001B[39;00m\u001B[38;5;250m \u001B[39m\u001B[34;01mlangchain_openai\u001B[39;00m\u001B[38;5;250m \u001B[39m\u001B[38;5;28;01mimport\u001B[39;00m ChatOpenAI\n\u001B[32m      9\u001B[39m \u001B[38;5;28;01mfrom\u001B[39;00m\u001B[38;5;250m \u001B[39m\u001B[34;01mlangchain_core\u001B[39;00m\u001B[34;01m.\u001B[39;00m\u001B[34;01mtools\u001B[39;00m\u001B[38;5;250m \u001B[39m\u001B[38;5;28;01mimport\u001B[39;00m tool \u001B[38;5;28;01mas\u001B[39;00m langchain_tool\n\u001B[32m---> \u001B[39m\u001B[32m10\u001B[39m \u001B[38;5;28;01mfrom\u001B[39;00m\u001B[38;5;250m \u001B[39m\u001B[34;01mlangchain\u001B[39;00m\u001B[34;01m.\u001B[39;00m\u001B[34;01magents\u001B[39;00m\u001B[38;5;250m \u001B[39m\u001B[38;5;28;01mimport\u001B[39;00m create_tool_calling_agent, AgentExecutor\n\u001B[32m     11\u001B[39m \u001B[38;5;28;01mfrom\u001B[39;00m\u001B[38;5;250m \u001B[39m\u001B[34;01mgoogle\u001B[39;00m\u001B[34;01m.\u001B[39;00m\u001B[34;01madk\u001B[39;00m\u001B[34;01m.\u001B[39;00m\u001B[34;01mmodels\u001B[39;00m\u001B[34;01m.\u001B[39;00m\u001B[34;01mlite_llm\u001B[39;00m\u001B[38;5;250m \u001B[39m\u001B[38;5;28;01mimport\u001B[39;00m LiteLlm\n\u001B[32m     14\u001B[39m model = LiteLlm(\n\u001B[32m     15\u001B[39m     model=\u001B[33m'\u001B[39m\u001B[33mdeepseek/deepseek-chat\u001B[39m\u001B[33m'\u001B[39m,\n\u001B[32m     16\u001B[39m     api_key=os.getenv(\u001B[33m'\u001B[39m\u001B[33mDEEPSEEK_SK\u001B[39m\u001B[33m'\u001B[39m)\n\u001B[32m     17\u001B[39m )\n",
      "\u001B[31mImportError\u001B[39m: cannot import name 'create_tool_calling_agent' from 'langchain.agents' (/Users/adan/code/egg/agent-demo/.venv/lib/python3.11/site-packages/langchain/agents/__init__.py)"
     ]
    }
   ],
   "execution_count": 1
  }
 ],
 "metadata": {
  "kernelspec": {
   "display_name": "Python 3",
   "language": "python",
   "name": "python3"
  },
  "language_info": {
   "codemirror_mode": {
    "name": "ipython",
    "version": 2
   },
   "file_extension": ".py",
   "mimetype": "text/x-python",
   "name": "python",
   "nbconvert_exporter": "python",
   "pygments_lexer": "ipython2",
   "version": "2.7.6"
  }
 },
 "nbformat": 4,
 "nbformat_minor": 5
}
