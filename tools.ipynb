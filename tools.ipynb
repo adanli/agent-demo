{
 "cells": [
  {
   "cell_type": "code",
   "id": "initial_id",
   "metadata": {
    "collapsed": true,
    "ExecuteTime": {
     "end_time": "2025-10-21T09:36:57.180582Z",
     "start_time": "2025-10-21T09:36:56.647262Z"
    }
   },
   "source": [
    "import os\n",
    "from typing import Optional\n",
    "import nest_asyncio\n",
    "import asyncio\n",
    "\n",
    "from langchain_core.prompts import ChatPromptTemplate\n",
    "# from langchain_google_genai import ChatGoogleGenerativeAI\n",
    "from langchain_openai import ChatOpenAI\n",
    "from langchain_core.tools import tool as langchain_tool\n",
    "from langchain.agents import create_tool_calling_agent, AgentExecutor\n",
    "from google.adk.models.lite_llm import LiteLlm\n",
    "\n",
    "model = LiteLlm(\n",
    "    model='deepseek/deepseek-chat',\n",
    "    api_key=os.getenv('DEEPSEEK_SK')\n",
    ")\n",
    "\n",
    "# 初始化大模型\n",
    "try:\n",
    "    llm: Optional[ChatOpenAI] = ChatOpenAI(base_url='https://api.deepseek.com', api_key=os.getenv('DEEPSEEK_SK'), model='deepseek-chat')\n",
    "    \n",
    "    print('='*10 + '大模型初始化成功' + '='*10)\n",
    "    \n",
    "except Exception as e:\n",
    "    print(f'初始化大模型失败: {e}')\n",
    "    llm = None\n",
    "    \n",
    "    \n",
    "@langchain_tool\n",
    "def search_information(query: str) -> str:\n",
    "    \"\"\"\n",
    "        根据主题提供事实信息\n",
    "    \"\"\"    \n",
    "    print(f'f\\n--- ::tools: 工具调用：search_information, 查询：{query} ---')\n",
    "    \n",
    "    simulated_results = {\n",
    "        \"weather in london\": \"伦敦当前天气多云，气温 15°C。\",\n",
    "        \"capital of france\": \"法国的首都是巴黎。\",\n",
    "        \"population of earth\": \"地球人口约 80 亿。\",\n",
    "        \"tallest mountain\": \"珠穆朗玛峰是海最高的山峰。\",\n",
    "        \"default\": f\"模拟搜索 '{query}'：未找到具体信息，但该主题很有趣。\"\n",
    "    }\n",
    "    \n",
    "    result = simulated_results.get(query.lower(), simulated_results['default'])\n",
    "    print('='*10 + '工具结果' + '='*10)\n",
    "    print(result)\n",
    "    return result\n",
    "\n",
    "tools = [search_information]\n",
    "\n",
    "# 创建工具调用agent\n",
    "if llm:\n",
    "    agent_prompt = ChatPromptTemplate.from_messages([\n",
    "        (\"system\", \"你是一个乐于助人的助手。\"),\n",
    "        (\"human\", \"{input}\"),\n",
    "        (\"placeholder\", \"{agent_scratchpad}\"),\n",
    "    ])\n",
    "    \n",
    "    agent = create_tool_calling_agent(llm=llm, prompt=agent_prompt, tools=tools)\n",
    "    agent_executor = AgentExecutor(agent=agent, tools=tools, verbose=True)\n",
    "    \n",
    "async def run_agent_with_tool(query: str):\n",
    "    \"\"\"用 Agent 执行查询并打印最终回复。\"\"\"\n",
    "    print(f\"\\n‑‑‑ :emoji: Agent 运行查询：'{query}' ‑‑‑\")\n",
    "    try:\n",
    "        response = await agent_executor.ainvoke({'input', query})\n",
    "        print('='*10 + 'AI最终回复' + '='*10)\n",
    "        print(response['output'])\n",
    "    except Exception as e:\n",
    "        print(e)\n",
    "        \n",
    "async def main():\n",
    "    \"\"\"并发多个agent查询\"\"\"\n",
    "    tasks = [\n",
    "        run_agent_with_tool('法国的首都是什么？'),\n",
    "        run_agent_with_tool('伦敦天气如何？'),\n",
    "        run_agent_with_tool('说说狗的相关信息。'),\n",
    "    ]\n",
    "    await asyncio.gather(*tasks)\n",
    "    \n",
    "nest_asyncio.apply()\n",
    "asyncio.run(main())\n",
    "    "
   ],
   "outputs": [
    {
     "name": "stderr",
     "output_type": "stream",
     "text": [
      "/Users/adan/code/egg/agent-demo/.venv/lib/python3.11/site-packages/pydantic/v1/validators.py:767: UserWarning: Mixing V1 and V2 models is not supported. `LLMChain` is a V2 model.\n",
      "  warn(f'Mixing V1 and V2 models is not supported. `{type_.__name__}` is a V2 model.', UserWarning)\n"
     ]
    },
    {
     "ename": "RuntimeError",
     "evalue": "no validator found for <class 'langchain.chains.llm.LLMChain'>, see `arbitrary_types_allowed` in Config",
     "output_type": "error",
     "traceback": [
      "\u001B[31m---------------------------------------------------------------------------\u001B[39m",
      "\u001B[31mRuntimeError\u001B[39m                              Traceback (most recent call last)",
      "\u001B[36mCell\u001B[39m\u001B[36m \u001B[39m\u001B[32mIn[6]\u001B[39m\u001B[32m, line 10\u001B[39m\n\u001B[32m      8\u001B[39m \u001B[38;5;28;01mfrom\u001B[39;00m\u001B[38;5;250m \u001B[39m\u001B[34;01mlangchain_openai\u001B[39;00m\u001B[38;5;250m \u001B[39m\u001B[38;5;28;01mimport\u001B[39;00m ChatOpenAI\n\u001B[32m      9\u001B[39m \u001B[38;5;28;01mfrom\u001B[39;00m\u001B[38;5;250m \u001B[39m\u001B[34;01mlangchain_core\u001B[39;00m\u001B[34;01m.\u001B[39;00m\u001B[34;01mtools\u001B[39;00m\u001B[38;5;250m \u001B[39m\u001B[38;5;28;01mimport\u001B[39;00m tool \u001B[38;5;28;01mas\u001B[39;00m langchain_tool\n\u001B[32m---> \u001B[39m\u001B[32m10\u001B[39m \u001B[38;5;28;01mfrom\u001B[39;00m\u001B[38;5;250m \u001B[39m\u001B[34;01mlangchain\u001B[39;00m\u001B[34;01m.\u001B[39;00m\u001B[34;01magents\u001B[39;00m\u001B[38;5;250m \u001B[39m\u001B[38;5;28;01mimport\u001B[39;00m create_tool_calling_agent, AgentExecutor\n\u001B[32m     11\u001B[39m \u001B[38;5;28;01mfrom\u001B[39;00m\u001B[38;5;250m \u001B[39m\u001B[34;01mgoogle\u001B[39;00m\u001B[34;01m.\u001B[39;00m\u001B[34;01madk\u001B[39;00m\u001B[34;01m.\u001B[39;00m\u001B[34;01mmodels\u001B[39;00m\u001B[34;01m.\u001B[39;00m\u001B[34;01mlite_llm\u001B[39;00m\u001B[38;5;250m \u001B[39m\u001B[38;5;28;01mimport\u001B[39;00m LiteLlm\n\u001B[32m     13\u001B[39m model = LiteLlm(\n\u001B[32m     14\u001B[39m     model=\u001B[33m'\u001B[39m\u001B[33mdeepseek/deepseek-chat\u001B[39m\u001B[33m'\u001B[39m,\n\u001B[32m     15\u001B[39m     api_key=os.getenv(\u001B[33m'\u001B[39m\u001B[33mDEEPSEEK_SK\u001B[39m\u001B[33m'\u001B[39m)\n\u001B[32m     16\u001B[39m )\n",
      "\u001B[36mFile \u001B[39m\u001B[32m~/code/egg/agent-demo/.venv/lib/python3.11/site-packages/langchain/agents/__init__.py:40\u001B[39m\n\u001B[32m     37\u001B[39m \u001B[38;5;28;01mfrom\u001B[39;00m\u001B[38;5;250m \u001B[39m\u001B[34;01mlangchain_core\u001B[39;00m\u001B[34;01m.\u001B[39;00m\u001B[34;01mtools\u001B[39;00m\u001B[34;01m.\u001B[39;00m\u001B[34;01mconvert\u001B[39;00m\u001B[38;5;250m \u001B[39m\u001B[38;5;28;01mimport\u001B[39;00m tool\n\u001B[32m     39\u001B[39m \u001B[38;5;28;01mfrom\u001B[39;00m\u001B[38;5;250m \u001B[39m\u001B[34;01mlangchain\u001B[39;00m\u001B[34;01m.\u001B[39;00m\u001B[34;01m_api\u001B[39;00m\u001B[38;5;250m \u001B[39m\u001B[38;5;28;01mimport\u001B[39;00m create_importer\n\u001B[32m---> \u001B[39m\u001B[32m40\u001B[39m \u001B[38;5;28;01mfrom\u001B[39;00m\u001B[38;5;250m \u001B[39m\u001B[34;01mlangchain\u001B[39;00m\u001B[34;01m.\u001B[39;00m\u001B[34;01magents\u001B[39;00m\u001B[34;01m.\u001B[39;00m\u001B[34;01magent\u001B[39;00m\u001B[38;5;250m \u001B[39m\u001B[38;5;28;01mimport\u001B[39;00m (\n\u001B[32m     41\u001B[39m     Agent,\n\u001B[32m     42\u001B[39m     AgentExecutor,\n\u001B[32m     43\u001B[39m     AgentOutputParser,\n\u001B[32m     44\u001B[39m     BaseMultiActionAgent,\n\u001B[32m     45\u001B[39m     BaseSingleActionAgent,\n\u001B[32m     46\u001B[39m     LLMSingleActionAgent,\n\u001B[32m     47\u001B[39m )\n\u001B[32m     48\u001B[39m \u001B[38;5;28;01mfrom\u001B[39;00m\u001B[38;5;250m \u001B[39m\u001B[34;01mlangchain\u001B[39;00m\u001B[34;01m.\u001B[39;00m\u001B[34;01magents\u001B[39;00m\u001B[34;01m.\u001B[39;00m\u001B[34;01magent_iterator\u001B[39;00m\u001B[38;5;250m \u001B[39m\u001B[38;5;28;01mimport\u001B[39;00m AgentExecutorIterator\n\u001B[32m     49\u001B[39m \u001B[38;5;28;01mfrom\u001B[39;00m\u001B[38;5;250m \u001B[39m\u001B[34;01mlangchain\u001B[39;00m\u001B[34;01m.\u001B[39;00m\u001B[34;01magents\u001B[39;00m\u001B[34;01m.\u001B[39;00m\u001B[34;01magent_toolkits\u001B[39;00m\u001B[34;01m.\u001B[39;00m\u001B[34;01mvectorstore\u001B[39;00m\u001B[34;01m.\u001B[39;00m\u001B[34;01mbase\u001B[39;00m\u001B[38;5;250m \u001B[39m\u001B[38;5;28;01mimport\u001B[39;00m (\n\u001B[32m     50\u001B[39m     create_vectorstore_agent,\n\u001B[32m     51\u001B[39m     create_vectorstore_router_agent,\n\u001B[32m     52\u001B[39m )\n",
      "\u001B[36mFile \u001B[39m\u001B[32m~/code/egg/agent-demo/.venv/lib/python3.11/site-packages/langchain/agents/agent.py:639\u001B[39m\n\u001B[32m    624\u001B[39m             final_output = \u001B[38;5;28;01mawait\u001B[39;00m \u001B[38;5;28mself\u001B[39m.runnable.ainvoke(\n\u001B[32m    625\u001B[39m                 inputs, config={\u001B[33m\"\u001B[39m\u001B[33mcallbacks\u001B[39m\u001B[33m\"\u001B[39m: callbacks}\n\u001B[32m    626\u001B[39m             )\n\u001B[32m    628\u001B[39m         \u001B[38;5;28;01mreturn\u001B[39;00m final_output\n\u001B[32m    631\u001B[39m \u001B[38;5;129;43m@deprecated\u001B[39;49m\u001B[43m(\u001B[49m\n\u001B[32m    632\u001B[39m \u001B[43m    \u001B[49m\u001B[33;43m\"\u001B[39;49m\u001B[33;43m0.1.0\u001B[39;49m\u001B[33;43m\"\u001B[39;49m\u001B[43m,\u001B[49m\n\u001B[32m    633\u001B[39m \u001B[43m    \u001B[49m\u001B[43mmessage\u001B[49m\u001B[43m=\u001B[49m\u001B[43m(\u001B[49m\n\u001B[32m    634\u001B[39m \u001B[43m        \u001B[49m\u001B[33;43m\"\u001B[39;49m\u001B[33;43mUse new agent constructor methods like create_react_agent, create_json_agent, \u001B[39;49m\u001B[33;43m\"\u001B[39;49m\n\u001B[32m    635\u001B[39m \u001B[43m        \u001B[49m\u001B[33;43m\"\u001B[39;49m\u001B[33;43mcreate_structured_chat_agent, etc.\u001B[39;49m\u001B[33;43m\"\u001B[39;49m\n\u001B[32m    636\u001B[39m \u001B[43m    \u001B[49m\u001B[43m)\u001B[49m\u001B[43m,\u001B[49m\n\u001B[32m    637\u001B[39m \u001B[43m    \u001B[49m\u001B[43mremoval\u001B[49m\u001B[43m=\u001B[49m\u001B[33;43m\"\u001B[39;49m\u001B[33;43m1.0\u001B[39;49m\u001B[33;43m\"\u001B[39;49m\u001B[43m,\u001B[49m\n\u001B[32m    638\u001B[39m \u001B[43m)\u001B[49m\n\u001B[32m--> \u001B[39m\u001B[32m639\u001B[39m \u001B[38;5;28;43;01mclass\u001B[39;49;00m\u001B[38;5;250;43m \u001B[39;49m\u001B[34;43;01mLLMSingleActionAgent\u001B[39;49;00m\u001B[43m(\u001B[49m\u001B[43mBaseSingleActionAgent\u001B[49m\u001B[43m)\u001B[49m\u001B[43m:\u001B[49m\n\u001B[32m    640\u001B[39m \u001B[38;5;250;43m    \u001B[39;49m\u001B[33;43;03m\"\"\"Base class for single action agents.\"\"\"\u001B[39;49;00m\n\u001B[32m    642\u001B[39m \u001B[43m    \u001B[49m\u001B[43mllm_chain\u001B[49m\u001B[43m:\u001B[49m\u001B[43m \u001B[49m\u001B[43mLLMChain\u001B[49m\n",
      "\u001B[36mFile \u001B[39m\u001B[32m~/code/egg/agent-demo/.venv/lib/python3.11/site-packages/pydantic/v1/main.py:197\u001B[39m, in \u001B[36mModelMetaclass.__new__\u001B[39m\u001B[34m(mcs, name, bases, namespace, **kwargs)\u001B[39m\n\u001B[32m    189\u001B[39m     \u001B[38;5;28;01mif\u001B[39;00m (\n\u001B[32m    190\u001B[39m         is_untouched(value)\n\u001B[32m    191\u001B[39m         \u001B[38;5;129;01mand\u001B[39;00m ann_type != PyObject\n\u001B[32m   (...)\u001B[39m\u001B[32m    194\u001B[39m         )\n\u001B[32m    195\u001B[39m     ):\n\u001B[32m    196\u001B[39m         \u001B[38;5;28;01mcontinue\u001B[39;00m\n\u001B[32m--> \u001B[39m\u001B[32m197\u001B[39m     fields[ann_name] = \u001B[43mModelField\u001B[49m\u001B[43m.\u001B[49m\u001B[43minfer\u001B[49m\u001B[43m(\u001B[49m\n\u001B[32m    198\u001B[39m \u001B[43m        \u001B[49m\u001B[43mname\u001B[49m\u001B[43m=\u001B[49m\u001B[43mann_name\u001B[49m\u001B[43m,\u001B[49m\n\u001B[32m    199\u001B[39m \u001B[43m        \u001B[49m\u001B[43mvalue\u001B[49m\u001B[43m=\u001B[49m\u001B[43mvalue\u001B[49m\u001B[43m,\u001B[49m\n\u001B[32m    200\u001B[39m \u001B[43m        \u001B[49m\u001B[43mannotation\u001B[49m\u001B[43m=\u001B[49m\u001B[43mann_type\u001B[49m\u001B[43m,\u001B[49m\n\u001B[32m    201\u001B[39m \u001B[43m        \u001B[49m\u001B[43mclass_validators\u001B[49m\u001B[43m=\u001B[49m\u001B[43mvg\u001B[49m\u001B[43m.\u001B[49m\u001B[43mget_validators\u001B[49m\u001B[43m(\u001B[49m\u001B[43mann_name\u001B[49m\u001B[43m)\u001B[49m\u001B[43m,\u001B[49m\n\u001B[32m    202\u001B[39m \u001B[43m        \u001B[49m\u001B[43mconfig\u001B[49m\u001B[43m=\u001B[49m\u001B[43mconfig\u001B[49m\u001B[43m,\u001B[49m\n\u001B[32m    203\u001B[39m \u001B[43m    \u001B[49m\u001B[43m)\u001B[49m\n\u001B[32m    204\u001B[39m \u001B[38;5;28;01melif\u001B[39;00m ann_name \u001B[38;5;129;01mnot\u001B[39;00m \u001B[38;5;129;01min\u001B[39;00m namespace \u001B[38;5;129;01mand\u001B[39;00m config.underscore_attrs_are_private:\n\u001B[32m    205\u001B[39m     private_attributes[ann_name] = PrivateAttr()\n",
      "\u001B[36mFile \u001B[39m\u001B[32m~/code/egg/agent-demo/.venv/lib/python3.11/site-packages/pydantic/v1/fields.py:504\u001B[39m, in \u001B[36mModelField.infer\u001B[39m\u001B[34m(cls, name, value, annotation, class_validators, config)\u001B[39m\n\u001B[32m    501\u001B[39m     required = \u001B[38;5;28;01mFalse\u001B[39;00m\n\u001B[32m    502\u001B[39m annotation = get_annotation_from_field_info(annotation, field_info, name, config.validate_assignment)\n\u001B[32m--> \u001B[39m\u001B[32m504\u001B[39m \u001B[38;5;28;01mreturn\u001B[39;00m \u001B[38;5;28;43mcls\u001B[39;49m\u001B[43m(\u001B[49m\n\u001B[32m    505\u001B[39m \u001B[43m    \u001B[49m\u001B[43mname\u001B[49m\u001B[43m=\u001B[49m\u001B[43mname\u001B[49m\u001B[43m,\u001B[49m\n\u001B[32m    506\u001B[39m \u001B[43m    \u001B[49m\u001B[43mtype_\u001B[49m\u001B[43m=\u001B[49m\u001B[43mannotation\u001B[49m\u001B[43m,\u001B[49m\n\u001B[32m    507\u001B[39m \u001B[43m    \u001B[49m\u001B[43malias\u001B[49m\u001B[43m=\u001B[49m\u001B[43mfield_info\u001B[49m\u001B[43m.\u001B[49m\u001B[43malias\u001B[49m\u001B[43m,\u001B[49m\n\u001B[32m    508\u001B[39m \u001B[43m    \u001B[49m\u001B[43mclass_validators\u001B[49m\u001B[43m=\u001B[49m\u001B[43mclass_validators\u001B[49m\u001B[43m,\u001B[49m\n\u001B[32m    509\u001B[39m \u001B[43m    \u001B[49m\u001B[43mdefault\u001B[49m\u001B[43m=\u001B[49m\u001B[43mvalue\u001B[49m\u001B[43m,\u001B[49m\n\u001B[32m    510\u001B[39m \u001B[43m    \u001B[49m\u001B[43mdefault_factory\u001B[49m\u001B[43m=\u001B[49m\u001B[43mfield_info\u001B[49m\u001B[43m.\u001B[49m\u001B[43mdefault_factory\u001B[49m\u001B[43m,\u001B[49m\n\u001B[32m    511\u001B[39m \u001B[43m    \u001B[49m\u001B[43mrequired\u001B[49m\u001B[43m=\u001B[49m\u001B[43mrequired\u001B[49m\u001B[43m,\u001B[49m\n\u001B[32m    512\u001B[39m \u001B[43m    \u001B[49m\u001B[43mmodel_config\u001B[49m\u001B[43m=\u001B[49m\u001B[43mconfig\u001B[49m\u001B[43m,\u001B[49m\n\u001B[32m    513\u001B[39m \u001B[43m    \u001B[49m\u001B[43mfield_info\u001B[49m\u001B[43m=\u001B[49m\u001B[43mfield_info\u001B[49m\u001B[43m,\u001B[49m\n\u001B[32m    514\u001B[39m \u001B[43m\u001B[49m\u001B[43m)\u001B[49m\n",
      "\u001B[36mFile \u001B[39m\u001B[32m~/code/egg/agent-demo/.venv/lib/python3.11/site-packages/pydantic/v1/fields.py:434\u001B[39m, in \u001B[36mModelField.__init__\u001B[39m\u001B[34m(self, name, type_, class_validators, model_config, default, default_factory, required, final, alias, field_info)\u001B[39m\n\u001B[32m    432\u001B[39m \u001B[38;5;28mself\u001B[39m.shape: \u001B[38;5;28mint\u001B[39m = SHAPE_SINGLETON\n\u001B[32m    433\u001B[39m \u001B[38;5;28mself\u001B[39m.model_config.prepare_field(\u001B[38;5;28mself\u001B[39m)\n\u001B[32m--> \u001B[39m\u001B[32m434\u001B[39m \u001B[38;5;28;43mself\u001B[39;49m\u001B[43m.\u001B[49m\u001B[43mprepare\u001B[49m\u001B[43m(\u001B[49m\u001B[43m)\u001B[49m\n",
      "\u001B[36mFile \u001B[39m\u001B[32m~/code/egg/agent-demo/.venv/lib/python3.11/site-packages/pydantic/v1/fields.py:555\u001B[39m, in \u001B[36mModelField.prepare\u001B[39m\u001B[34m(self)\u001B[39m\n\u001B[32m    553\u001B[39m \u001B[38;5;28;01mif\u001B[39;00m \u001B[38;5;28mself\u001B[39m.default \u001B[38;5;129;01mis\u001B[39;00m Undefined \u001B[38;5;129;01mand\u001B[39;00m \u001B[38;5;28mself\u001B[39m.default_factory \u001B[38;5;129;01mis\u001B[39;00m \u001B[38;5;28;01mNone\u001B[39;00m:\n\u001B[32m    554\u001B[39m     \u001B[38;5;28mself\u001B[39m.default = \u001B[38;5;28;01mNone\u001B[39;00m\n\u001B[32m--> \u001B[39m\u001B[32m555\u001B[39m \u001B[38;5;28;43mself\u001B[39;49m\u001B[43m.\u001B[49m\u001B[43mpopulate_validators\u001B[49m\u001B[43m(\u001B[49m\u001B[43m)\u001B[49m\n",
      "\u001B[36mFile \u001B[39m\u001B[32m~/code/egg/agent-demo/.venv/lib/python3.11/site-packages/pydantic/v1/fields.py:829\u001B[39m, in \u001B[36mModelField.populate_validators\u001B[39m\u001B[34m(self)\u001B[39m\n\u001B[32m    825\u001B[39m \u001B[38;5;28;01mif\u001B[39;00m \u001B[38;5;129;01mnot\u001B[39;00m \u001B[38;5;28mself\u001B[39m.sub_fields \u001B[38;5;129;01mor\u001B[39;00m \u001B[38;5;28mself\u001B[39m.shape == SHAPE_GENERIC:\n\u001B[32m    826\u001B[39m     get_validators = \u001B[38;5;28mgetattr\u001B[39m(\u001B[38;5;28mself\u001B[39m.type_, \u001B[33m'\u001B[39m\u001B[33m__get_validators__\u001B[39m\u001B[33m'\u001B[39m, \u001B[38;5;28;01mNone\u001B[39;00m)\n\u001B[32m    827\u001B[39m     v_funcs = (\n\u001B[32m    828\u001B[39m         *[v.func \u001B[38;5;28;01mfor\u001B[39;00m v \u001B[38;5;129;01min\u001B[39;00m class_validators_ \u001B[38;5;28;01mif\u001B[39;00m v.each_item \u001B[38;5;129;01mand\u001B[39;00m v.pre],\n\u001B[32m--> \u001B[39m\u001B[32m829\u001B[39m         *(get_validators() \u001B[38;5;28;01mif\u001B[39;00m get_validators \u001B[38;5;28;01melse\u001B[39;00m \u001B[38;5;28mlist\u001B[39m(find_validators(\u001B[38;5;28mself\u001B[39m.type_, \u001B[38;5;28mself\u001B[39m.model_config))),\n\u001B[32m    830\u001B[39m         *[v.func \u001B[38;5;28;01mfor\u001B[39;00m v \u001B[38;5;129;01min\u001B[39;00m class_validators_ \u001B[38;5;28;01mif\u001B[39;00m v.each_item \u001B[38;5;129;01mand\u001B[39;00m \u001B[38;5;129;01mnot\u001B[39;00m v.pre],\n\u001B[32m    831\u001B[39m     )\n\u001B[32m    832\u001B[39m     \u001B[38;5;28mself\u001B[39m.validators = prep_validators(v_funcs)\n\u001B[32m    834\u001B[39m \u001B[38;5;28mself\u001B[39m.pre_validators = []\n",
      "\u001B[36mFile \u001B[39m\u001B[32m~/code/egg/agent-demo/.venv/lib/python3.11/site-packages/pydantic/v1/validators.py:768\u001B[39m, in \u001B[36mfind_validators\u001B[39m\u001B[34m(type_, config)\u001B[39m\n\u001B[32m    766\u001B[39m \u001B[38;5;28;01mif\u001B[39;00m \u001B[38;5;28mhasattr\u001B[39m(type_, \u001B[33m'\u001B[39m\u001B[33m__pydantic_core_schema__\u001B[39m\u001B[33m'\u001B[39m):\n\u001B[32m    767\u001B[39m     warn(\u001B[33mf\u001B[39m\u001B[33m'\u001B[39m\u001B[33mMixing V1 and V2 models is not supported. `\u001B[39m\u001B[38;5;132;01m{\u001B[39;00mtype_.\u001B[34m__name__\u001B[39m\u001B[38;5;132;01m}\u001B[39;00m\u001B[33m` is a V2 model.\u001B[39m\u001B[33m'\u001B[39m, \u001B[38;5;167;01mUserWarning\u001B[39;00m)\n\u001B[32m--> \u001B[39m\u001B[32m768\u001B[39m \u001B[38;5;28;01mraise\u001B[39;00m \u001B[38;5;167;01mRuntimeError\u001B[39;00m(\u001B[33mf\u001B[39m\u001B[33m'\u001B[39m\u001B[33mno validator found for \u001B[39m\u001B[38;5;132;01m{\u001B[39;00mtype_\u001B[38;5;132;01m}\u001B[39;00m\u001B[33m, see `arbitrary_types_allowed` in Config\u001B[39m\u001B[33m'\u001B[39m)\n",
      "\u001B[31mRuntimeError\u001B[39m: no validator found for <class 'langchain.chains.llm.LLMChain'>, see `arbitrary_types_allowed` in Config"
     ]
    }
   ],
   "execution_count": 6
  }
 ],
 "metadata": {
  "kernelspec": {
   "display_name": "Python 3",
   "language": "python",
   "name": "python3"
  },
  "language_info": {
   "codemirror_mode": {
    "name": "ipython",
    "version": 2
   },
   "file_extension": ".py",
   "mimetype": "text/x-python",
   "name": "python",
   "nbconvert_exporter": "python",
   "pygments_lexer": "ipython2",
   "version": "2.7.6"
  }
 },
 "nbformat": 4,
 "nbformat_minor": 5
}
