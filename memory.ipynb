{
 "cells": [
  {
   "cell_type": "code",
   "id": "initial_id",
   "metadata": {
    "collapsed": true,
    "ExecuteTime": {
     "end_time": "2025-10-22T10:36:17.232243Z",
     "start_time": "2025-10-22T10:36:17.229643Z"
    }
   },
   "source": [
    "# 记忆能力\n",
    "\n",
    "# 历史对话\n",
    "from langchain_core.chat_history import InMemoryChatMessageHistory\n",
    "\n",
    "history = InMemoryChatMessageHistory()\n",
    "history.add_user_message('我下周要去纽约。')\n",
    "history.add_ai_message('\"太棒了！纽约是个很棒的城市。')\n",
    "print(history)\n"
   ],
   "outputs": [
    {
     "name": "stdout",
     "output_type": "stream",
     "text": [
      "Human: 我下周要去纽约。\n",
      "AI: \"太棒了！纽约是个很棒的城市。\n"
     ]
    }
   ],
   "execution_count": 2
  },
  {
   "metadata": {
    "ExecuteTime": {
     "end_time": "2025-10-22T11:12:12.663492Z",
     "start_time": "2025-10-22T11:12:05.432275Z"
    }
   },
   "cell_type": "code",
   "source": [
    "import os\n",
    "\n",
    "from langchain_core.runnables.history import RunnableWithMessageHistory\n",
    "from langchain_openai import ChatOpenAI\n",
    "from langchain_core.prompts import ChatPromptTemplate\n",
    "from langchain_core.messages import HumanMessage\n",
    "from langchain_core.output_parsers import StrOutputParser\n",
    "\n",
    "llm = ChatOpenAI(base_url='https://api.deepseek.com', api_key=os.getenv('DEEPSEEK_SK'), model='deepseek-chat')\n",
    "\n",
    "chat_history = InMemoryChatMessageHistory(messages=[])\n",
    "\n",
    "def dummy_get_session_history(session_id):\n",
    "    if session_id != \"1\":\n",
    "        return InMemoryChatMessageHistory()\n",
    "    return chat_history\n",
    "\n",
    "\n",
    "prompt = ChatPromptTemplate.from_template(\"\"\"\n",
    "    你是一名乐于助人的旅行顾问。\n",
    "    之前的对话：\n",
    "    {history}\n",
    "    \n",
    "     新问题:\n",
    "     {question}\n",
    "     回复:\n",
    "\"\"\")\n",
    "\n",
    "# memory = RunnableWithMessageHistory(history_messages_key='history')\n",
    "\n",
    "chain = prompt | llm\n",
    "chain_with_history = RunnableWithMessageHistory(chain, dummy_get_session_history)\n",
    "chain_with_history.invoke(\n",
    "    [{'question': '我想订机票。'}],\n",
    "    config={\"configurable\": {\"session_id\": \"1\"}}\n",
    ")\n",
    "\n",
    "# result = chain.invoke({\n",
    "#     'question': '我想订机票',\n",
    "#     'history': '无'\n",
    "# })\n",
    "# print(result)\n"
   ],
   "id": "b6207556caf1a323",
   "outputs": [
    {
     "name": "stdout",
     "output_type": "stream",
     "text": [
      "您好！很高兴能协助您预订机票。✨\n",
      "\n",
      "为了帮您找到最合适的航班，我需要了解一些具体信息：\n",
      "\n",
      "🛫 **出行信息**\n",
      "- 出发城市和目的地是哪里？\n",
      "- 预计什么时间出发？（具体日期或时间段）\n",
      "- 单程还是往返？\n",
      "\n",
      "👥 **乘客信息**\n",
      "- 几位乘客？\n",
      "- 是否有儿童或婴儿？\n",
      "\n",
      "💺 **舱位偏好**\n",
      "- 经济舱、商务舱还是头等舱？\n",
      "- 对航空公司有偏好吗？\n",
      "\n",
      "💎 **其他需求**\n",
      "- 是否需要托运行李？\n",
      "- 对起飞时间有特殊要求吗？（比如希望早上或晚上的航班）\n",
      "- 预算范围是多少？\n",
      "\n",
      "请告诉我这些细节，我就能立即为您搜索和比较最适合的航班选项了！😊\n"
     ]
    }
   ],
   "execution_count": 11
  }
 ],
 "metadata": {
  "kernelspec": {
   "display_name": "Python 3",
   "language": "python",
   "name": "python3"
  },
  "language_info": {
   "codemirror_mode": {
    "name": "ipython",
    "version": 2
   },
   "file_extension": ".py",
   "mimetype": "text/x-python",
   "name": "python",
   "nbconvert_exporter": "python",
   "pygments_lexer": "ipython2",
   "version": "2.7.6"
  }
 },
 "nbformat": 4,
 "nbformat_minor": 5
}
